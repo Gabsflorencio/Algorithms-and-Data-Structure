{
 "cells": [
  {
   "cell_type": "markdown",
   "metadata": {
    "id": "YGoGFx3lWBbJ"
   },
   "source": [
    "Student Identification\n",
    "\n",
    "- Full Name 01: **Gabriel Florêncio de Almeida** "
   ]
  },
  {
   "cell_type": "markdown",
   "metadata": {
    "id": "0vUTEVI2SSAQ"
   },
   "source": [
    "# Exercise Q&A (1,00 point for grade in Unit 02)"
   ]
  },
  {
   "cell_type": "markdown",
   "metadata": {
    "id": "tG_xFopi_wpj"
   },
   "source": [
    "## Question 01"
   ]
  },
  {
   "cell_type": "markdown",
   "metadata": {
    "id": "rtVDKKTDGCND"
   },
   "source": [
    "Consider a network with *N* nodes. Given a single link, what is the maximum number of nodes that link can connect? Given a single node, what is the maximum number of links that can connect to that node?"
   ]
  },
  {
   "cell_type": "markdown",
   "metadata": {
    "id": "3n2EjOMmHMuI"
   },
   "source": [
    "Answer: Assuming a simple undirected graph, a single link can connect two nodes.\n",
    "        Assuming a simple undirected graph, a single node can be connected to at most N-1 other nodes."
   ]
  },
  {
   "cell_type": "markdown",
   "metadata": {
    "id": "uQPRLZUXHRFc"
   },
   "source": [
    "## Question 02"
   ]
  },
  {
   "cell_type": "markdown",
   "metadata": {
    "id": "FnKLHki-Hay_"
   },
   "source": [
    "\n",
    "<center><img width=\"600\" src=\"https://drive.google.com/uc?export=view&id=1Y42-c3Pq1XoszEEvYsZFdr3GccAqp7l_\"></center>\n",
    "<center><b>Figure 1</b>: Map of New York in 1880. From Report on the Social Statistics of Cities, Compiled by George E. Waring, Jr., U.S. Census Office, 1886. Image courtesy of University of Texas Libraries. <br></center>\n",
    "\n",
    "\n",
    "Consider the road map in Figure 1. The grid-like structure of this network means that most nodes have the same degree. What is the most common degree for nodes in this network?\n",
    "\n"
   ]
  },
  {
   "cell_type": "markdown",
   "metadata": {
    "id": "DtBZnm2OHgaI"
   },
   "source": [
    "Answer:In a regular grid-like structure, each node typically has the same number of neighbors, resulting in a regular degree distribution. If we consider a square grid, where each node is connected to its four neighboring nodes (up, down, left, and right), then the most common degree a node can have is 4.\n"
   ]
  },
  {
   "cell_type": "markdown",
   "metadata": {
    "id": "pyOgImYmJsh3"
   },
   "source": [
    "## Question 03"
   ]
  },
  {
   "cell_type": "markdown",
   "metadata": {
    "id": "17qGjrMHJvZ7"
   },
   "source": [
    "Consider the road map in Figure 1. Manhattan has a lot of one-way streets. This implies that a good network model of traffic flow would probably have directed links. Consider a subgraph of this network with grid-like connectivity and all one-way streets (i.e. each node is a four-way intersection of two one-way streets). What is the most common in-degree of nodes in this subgraph? What is the most common out-degree?"
   ]
  },
  {
   "cell_type": "markdown",
   "metadata": {
    "id": "71j_C-55KIVC"
   },
   "source": [
    "Answer:For nodes located in the interior of the grid, away from the edges or corners, the most common in-degree is 2. Similarly, the most common out-degree of nodes in this subgraph is also 2 "
   ]
  },
  {
   "cell_type": "markdown",
   "metadata": {
    "id": "6ajWuuasKLQ_"
   },
   "source": [
    "## Question 04"
   ]
  },
  {
   "cell_type": "markdown",
   "metadata": {
    "id": "ylQ51DMWKZxC"
   },
   "source": [
    "What network quantity can we use to represent the volume of traffic between each pair of adjacent intersections in the Manhattan road map (Figure 1)?"
   ]
  },
  {
   "cell_type": "markdown",
   "metadata": {
    "id": "oE9sJ1mWKcF0"
   },
   "source": [
    "Answer:To represent the volume of traffic between each pair of adjacent intersections in the Manhattan road map, one commonly used network quantity is edge weight or edge capacity."
   ]
  },
  {
   "cell_type": "markdown",
   "metadata": {
    "id": "udxnPkItKfX3"
   },
   "source": [
    "## Question 5"
   ]
  },
  {
   "cell_type": "markdown",
   "metadata": {
    "id": "fj7f0HL7KtOy"
   },
   "source": [
    "Consider a directed network of N nodes. Now consider the total in-degree (i.e. the sum of the in-degree over all nodes in the network). Compare this to the analogous total out-degree. Which of the following must hold true for any such network?\n",
    "\n",
    "1. Total in-degree must be less than total out-degree\n",
    "2. Total in-degree must be greater than total out-degree\n",
    "3. Total in-degree must be equal to total out-degree\n",
    "4. None of these hold true in all instances"
   ]
  },
  {
   "cell_type": "markdown",
   "metadata": {
    "id": "4P5ThuVNK3Ug"
   },
   "source": [
    "Answer: Number 3 is true because, in a directed network, the total in-degree is always equal to the total out-degree."
   ]
  },
  {
   "cell_type": "markdown",
   "metadata": {
    "id": "QPVskC76LUtF"
   },
   "source": [
    "## Question 6"
   ]
  },
  {
   "cell_type": "markdown",
   "metadata": {
    "id": "A1TqNt5nLZkU"
   },
   "source": [
    "Consider a Twitter retweet network, where users are nodes and we want to show how many times a given user has retweeted another user. What link type best captures this relation?\n",
    "1.   Undirected, unweighted\n",
    "2.   Undirected, weighted\n",
    "3.   Directed, unweighted\n",
    "4.   Directed, weighted"
   ]
  },
  {
   "cell_type": "markdown",
   "metadata": {
    "id": "yJNqiQJ5LkFy"
   },
   "source": [
    "Answer:4. Directed, weighted. Using a directed link signifies the one-way nature of retweeting, where one user retweets content from another user. The directed link points from the retweeter to the original tweeter.Additionally, using a weighted link allows for quantifying the number of times a user has retweeted another user, providing a measure of the strength or intensity of the retweeting relationship."
   ]
  },
  {
   "cell_type": "markdown",
   "metadata": {
    "id": "ZT5mLS7-Lsb2"
   },
   "source": [
    "## Question 7"
   ]
  },
  {
   "cell_type": "markdown",
   "metadata": {
    "id": "ofRy-TURMLix"
   },
   "source": [
    "Consider a hashtag co-occurrence graph from Twitter. In this network, hashtags are the nodes, and a link between two hashtags indicates how often those two hashtags appear in tweets together. What link type would best capture this relation?\n",
    "1.   Undirected, unweighted\n",
    "2.   Undirected, weighted\n",
    "3.   Directed, unweighted\n",
    "4.   Directed, weighted"
   ]
  },
  {
   "cell_type": "markdown",
   "metadata": {
    "id": "8H7AiKavMQsT"
   },
   "source": [
    "Answer: 2. Undirected, weighted. This means that the links between hashtags are bidirectional (hashtags A and B are connected if they appear together), and the weight of the link represents the frequency or strength of their co-occurrence."
   ]
  },
  {
   "cell_type": "markdown",
   "metadata": {
    "id": "4-bIhQwpMVs3"
   },
   "source": [
    "## Question 8"
   ]
  },
  {
   "cell_type": "markdown",
   "metadata": {
    "id": "9SVLykJ6M5lM"
   },
   "source": [
    "Consider a network created from characters in a story or play. The nodes are people, and a link exists between two nodes if those characters ever engage in dialogue. Which type of edge could represent this relation? Justify your answer.\n",
    "1.   Undirected, unweighted\n",
    "2.   Undirected, weighted\n",
    "3.   Directed, unweighted\n",
    "4.   Directed, weighted"
   ]
  },
  {
   "cell_type": "markdown",
   "metadata": {
    "id": "FnvkcRD-M8eq"
   },
   "source": [
    "Answer:2. Undirected Weighted. An Undirected Weighted edge can capture the co-occurrence and strength of interactions between characters in a nuanced manner, providing insights into the frequency and significance of their dialogues without imposing a specific direction. By using an undirected edge, we acknowledge that the communication between characters is mutual, without specifying a strict directionality."
   ]
  },
  {
   "cell_type": "markdown",
   "metadata": {
    "id": "S4Ga_yyYNBBo"
   },
   "source": [
    "## Question 9"
   ]
  },
  {
   "cell_type": "markdown",
   "metadata": {
    "id": "1_z4ApdLNa6a"
   },
   "source": [
    "Suppose we want to make a more complex version of a dialog network that captures how much each character speaks and to whom. What type of link would best represent this relation?\n",
    "1.   Undirected, unweighted\n",
    "2.   Undirected, weighted\n",
    "3.   Directed, unweighted\n",
    "4.   Directed, weighted"
   ]
  },
  {
   "cell_type": "markdown",
   "metadata": {
    "id": "urjFC0KTNefy"
   },
   "source": [
    "Answer:4. Directed, weighted. Using a Directed link allows us to differentiate the direction of the communication, indicating who is speaking and who is being spoken to. Furthermore, using a Weighted link enables us to quantify and represent the amount or frequency of speech by assigning a numerical value to the link. The weight can indicate how much a character speaks to another character, providing insights into the volume or extent of their interactions."
   ]
  },
  {
   "cell_type": "markdown",
   "metadata": {
    "id": "hct-5tQwNg5_"
   },
   "source": [
    "## Question 10"
   ]
  },
  {
   "cell_type": "markdown",
   "metadata": {
    "id": "soJKH_N1Nnj3"
   },
   "source": [
    "Imagine that your social network has a subnetwork where you and 24 of your friends (25 people total) are all friends with each other. What is such a subnetwork called? And how many links are contained in the subnetwork?"
   ]
  },
  {
   "cell_type": "markdown",
   "metadata": {
    "id": "e8GcJrj1Npay"
   },
   "source": [
    "Answer:Such a subnetwork is called a \"complete graph\" or a \"clique\". In a complete graph, every pair of nodes (people in this case) is directly connected by a link. To determine the number of links in a complete graph, we can use the formula for the number of combinations of choosing 2 elements from a set of n elements, which is given by:\n",
    "\n",
    "C(n, 2) = n * (n - 1) / 2\n",
    "\n",
    "Substituting n = 25 into the formula, we get:\n",
    "\n",
    "C(25, 2) = 25 * (25 - 1) / 2 = 25 * 24 / 2 = 300"
   ]
  },
  {
   "cell_type": "markdown",
   "metadata": {
    "id": "--K9oj5YNrjz"
   },
   "source": [
    "## Question 11"
   ]
  },
  {
   "cell_type": "markdown",
   "metadata": {
    "id": "DRFut7ovNz41"
   },
   "source": [
    "Consider an undirected network with N nodes. What is the maximum number of links this network can have?"
   ]
  },
  {
   "cell_type": "markdown",
   "metadata": {
    "id": "60iToMENN61m"
   },
   "source": [
    " Answer:In an undirected network with N nodes, the maximum number of links can be determined by considering that each node can be connected to every other node except itself and the nodes it is already connected to. Therefore, the maximum number of links in an undirected network with N nodes is N * (N - 1) / 2."
   ]
  },
  {
   "cell_type": "markdown",
   "metadata": {
    "id": "cER1jb6SN8NF"
   },
   "source": [
    "## Question 12"
   ]
  },
  {
   "cell_type": "markdown",
   "metadata": {
    "id": "PyyEb1GeOBK9"
   },
   "source": [
    "Consider a bipartite network of N nodes, $N_1$ nodes of type 1 and $N_2$ nodes of type 2 (so that $N_1 + N_2 = N$). What is the maximum number of links in this network?"
   ]
  },
  {
   "cell_type": "markdown",
   "metadata": {
    "id": "6AoiES-AOJdB"
   },
   "source": [
    "Answer: The maximum number of links in a bipartite network can be calculated as:\n",
    "\n",
    "Maximum number of links = $N_1$ * $N_2$"
   ]
  },
  {
   "cell_type": "markdown",
   "metadata": {
    "id": "RN4CfOSqOK_1"
   },
   "source": [
    "## Question 13"
   ]
  },
  {
   "cell_type": "markdown",
   "metadata": {
    "id": "9SGJKgblOO9g"
   },
   "source": [
    "Given a complete network A with N nodes, and a bipartite network B also with N nodes, which of the following holds true for any $N > 2$:\n",
    "1.   Network A has more links than network B\n",
    "2.   Network A has the same number of links as network B\n",
    "3.   Network A has fewer links than network B\n",
    "4.   None of these hold true for all such $N > 2$"
   ]
  },
  {
   "cell_type": "markdown",
   "metadata": {
    "id": "cwF6C1uLOiWr"
   },
   "source": [
    "Answer:1.\"Network A has more links than network B,\" is the correct statement.\n",
    "\n",
    "Number of links A = N * (N - 1) / 2\n",
    "\n",
    "Number of links B = N_1 * N_2\n",
    "\n",
    "For any N > 2, if the complete network and the bipartite network both have N nodes, it implies that N_1 + N_2 = N. Since N_1 and N_2 are non-zero positive integers, it follows that N_1 * N_2 < N * (N - 1) / 2. \n",
    "Therefore, the number of links in the complete network (A) is greater than the number of links in the bipartite network (B) for any N > 2."
   ]
  },
  {
   "cell_type": "markdown",
   "metadata": {
    "id": "SKKotfslOluz"
   },
   "source": [
    "## Question 14\n",
    "\n"
   ]
  },
  {
   "cell_type": "markdown",
   "metadata": {
    "id": "GMh5WvjiPwzv"
   },
   "source": [
    "Consider this adjacency matrix:\n",
    "\n",
    "<center><img width=\"300\" src=\"https://drive.google.com/uc?export=view&id=1e4ANqX_kJCPhnVizvbK-ToBJgrZJpVde\"></center>\n",
    "\n",
    "An entry in the ith row and jth column indicates the weight of the link from node i to node j. For instance, the entry in the second row and third column is 2, meaning the weight of the link from node B to node C is 2. What kind of network does this matrix represent?\n",
    "1.   Undirected, unweighted\n",
    "2.   Undirected, weighted\n",
    "3.   Directed, unweighted\n",
    "4.   Directed, weighted\n"
   ]
  },
  {
   "cell_type": "markdown",
   "metadata": {
    "id": "UD5mRmSpRelN"
   },
   "source": [
    "Answer:"
   ]
  },
  {
   "cell_type": "markdown",
   "metadata": {
    "id": "N92A04bZP6Uu"
   },
   "source": [
    "## Question 15"
   ]
  },
  {
   "cell_type": "markdown",
   "metadata": {
    "id": "MqTaMtfDRKY1"
   },
   "source": [
    "We have seen that Facebook’s network is incredibly sparse. Assume it has approximately 1 billion users, each with 1000 friends on average.\n",
    "\n",
    "1. Suppose Facebook releases its annual report and it shows that while the number of users in the network has stayed the same, the average number of friends per user has increased. Would this imply that the network density increased, decreased, or stayed the same?\n",
    "2. Suppose instead that both the number of users and the average number of friends per user doubled. Would this imply the network density increased, decreased, or stayed the same?\n",
    "\n"
   ]
  },
  {
   "cell_type": "markdown",
   "metadata": {
    "id": "tc14eV8jRXsu"
   },
   "source": [
    "Answer:1 - If the number of users stays the same, but the average number of friends per user increases:\n",
    "In this case, the network density would increase. An increase in the average number of friends per user means that more connections are being formed between users. This leads to an increase in the actual number of connections in the network, resulting in a higher density.\n",
    "2 - If both the number of users and the average number of friends per user double, the actual number of connections in the network would increase significantly. However, the maximum possible number of connections would increase even more due to the doubling of users. Therefore, in the scenario where both the number of users and the average number of friends per user double, the network density would decrease."
   ]
  },
  {
   "cell_type": "markdown",
   "metadata": {
    "id": "hzp00QnjRgxU"
   },
   "source": [
    "## Question 16"
   ]
  },
  {
   "cell_type": "markdown",
   "metadata": {
    "id": "9O0ElA4FR1sR"
   },
   "source": [
    "Netflix keeps data on customer preferences using a big bipartite network connecting users to titles. Suppose that from 2021 to 2022 Netflix’s library has remained the same size, while the number of users has increased. Further suppose that the average user’s degree in this network has remained constant. Has the density of this network increased, decreased, or stayed the same?"
   ]
  },
  {
   "cell_type": "markdown",
   "metadata": {
    "id": "UdewP6VvR6VD"
   },
   "source": [
    "Answer: If the number of users has increased and the average user's degree (number of connections) has remained constant, it means that the number of connections in the network has grown proportionally with the increase in customers. In this case, the density of the network would stay approximately the same. "
   ]
  },
  {
   "cell_type": "markdown",
   "metadata": {
    "id": "3xO32cYISYkQ"
   },
   "source": [
    "# Exercise - Hands On (1,00 point for grade in Unit 02)"
   ]
  },
  {
   "cell_type": "markdown",
   "metadata": {
    "id": "-I9SonWrTIH-"
   },
   "source": [
    "Implementing all hands on using [NetworkX](https://networkx.org/)."
   ]
  },
  {
   "cell_type": "markdown",
   "metadata": {
    "id": "7if-CnFwSfPc"
   },
   "source": [
    "## Hands On 01"
   ]
  },
  {
   "cell_type": "markdown",
   "metadata": {
    "id": "SuO9vOYd9gFV"
   },
   "source": [
    "\n",
    "Often in the context of trees, a node with degree 1 is called a *leaf*. Write a function named `get_leaves` that takes a graph as an argument, loops through the nodes, and returns a list of nodes with degree 1."
   ]
  },
  {
   "cell_type": "code",
   "execution_count": 14,
   "metadata": {
    "id": "FlGKqf0MmgnB",
    "scrolled": true
   },
   "outputs": [],
   "source": [
    "import networkx as nx\n",
    "\n",
    "def get_leaves(G):\n",
    "    leaves = []\n",
    "    for node in G.nodes:\n",
    "        if G.degree[node] == 1:\n",
    "            leaves.append(node)\n",
    "    return leaves"
   ]
  },
  {
   "cell_type": "code",
   "execution_count": 15,
   "metadata": {
    "id": "mVBLr5_xmgnB",
    "scrolled": true
   },
   "outputs": [],
   "source": [
    "# this block of code is only for networkx adapt it for graph-tool\n",
    "G = nx.Graph()\n",
    "G.add_edges_from([\n",
    "        ('a', 'b'),\n",
    "        ('a', 'd'),\n",
    "        ('c', 'd'),\n",
    "    ])\n",
    "assert set(get_leaves(G)) == {'c', 'b'}"
   ]
  },
  {
   "cell_type": "markdown",
   "metadata": {
    "id": "TcYdyCnEmgnD"
   },
   "source": [
    "## Hands On 02"
   ]
  },
  {
   "cell_type": "markdown",
   "metadata": {
    "id": "MsE6DTbI9m4t"
   },
   "source": [
    "\n",
    "Write a function max_degree that takes a graph as its argument, and returns a 2-tuple with the name and degree of the node with highest degree."
   ]
  },
  {
   "cell_type": "code",
   "execution_count": 16,
   "metadata": {
    "id": "DLufczZQmgnD",
    "scrolled": false
   },
   "outputs": [],
   "source": [
    "import networkx as nx\n",
    "\n",
    "def max_degree(G):\n",
    "    node_degrees = G.degree()\n",
    "    max_degree_node = max(node_degrees, key=lambda x: x[1])\n",
    "    return max_degree_node\n"
   ]
  },
  {
   "cell_type": "code",
   "execution_count": 21,
   "metadata": {
    "id": "RuDfvFb3PmWI"
   },
   "outputs": [
    {
     "name": "stdout",
     "output_type": "stream",
     "text": [
      "Collecting gdown\n",
      "  Downloading gdown-4.7.1-py3-none-any.whl (15 kB)\n",
      "Requirement already satisfied: beautifulsoup4 in c:\\users\\gabri\\anaconda3\\lib\\site-packages (from gdown) (4.11.1)\n",
      "Requirement already satisfied: requests[socks] in c:\\users\\gabri\\anaconda3\\lib\\site-packages (from gdown) (2.28.1)\n",
      "Requirement already satisfied: filelock in c:\\users\\gabri\\anaconda3\\lib\\site-packages (from gdown) (3.9.0)\n",
      "Requirement already satisfied: six in c:\\users\\gabri\\anaconda3\\lib\\site-packages (from gdown) (1.16.0)\n",
      "Requirement already satisfied: tqdm in c:\\users\\gabri\\anaconda3\\lib\\site-packages (from gdown) (4.64.1)\n",
      "Requirement already satisfied: soupsieve>1.2 in c:\\users\\gabri\\anaconda3\\lib\\site-packages (from beautifulsoup4->gdown) (2.3.2.post1)\n",
      "Requirement already satisfied: urllib3<1.27,>=1.21.1 in c:\\users\\gabri\\anaconda3\\lib\\site-packages (from requests[socks]->gdown) (1.26.14)\n",
      "Requirement already satisfied: certifi>=2017.4.17 in c:\\users\\gabri\\anaconda3\\lib\\site-packages (from requests[socks]->gdown) (2022.12.7)\n",
      "Requirement already satisfied: idna<4,>=2.5 in c:\\users\\gabri\\anaconda3\\lib\\site-packages (from requests[socks]->gdown) (3.4)\n",
      "Requirement already satisfied: charset-normalizer<3,>=2 in c:\\users\\gabri\\anaconda3\\lib\\site-packages (from requests[socks]->gdown) (2.0.4)\n",
      "Requirement already satisfied: PySocks!=1.5.7,>=1.5.6 in c:\\users\\gabri\\anaconda3\\lib\\site-packages (from requests[socks]->gdown) (1.7.1)\n",
      "Requirement already satisfied: colorama in c:\\users\\gabri\\anaconda3\\lib\\site-packages (from tqdm->gdown) (0.4.6)\n",
      "Installing collected packages: gdown\n",
      "Successfully installed gdown-4.7.1\n"
     ]
    },
    {
     "name": "stderr",
     "output_type": "stream",
     "text": [
      "Downloading...\n",
      "From: https://drive.google.com/uc?id=14AMuGDPHac7FOOr7Stw2Jh-l-IWb7n8D\n",
      "To: C:\\Users\\gabri\\friends.adjlist\n",
      "100%|█████████████████████████████████████████████████████████████████████████████████████████| 109/109 [00:00<?, ?B/s]\n"
     ]
    },
    {
     "data": {
      "text/plain": [
       "'friends.adjlist'"
      ]
     },
     "execution_count": 21,
     "metadata": {},
     "output_type": "execute_result"
    }
   ],
   "source": [
    "!pip install gdown\n",
    "import gdown\n",
    "\n",
    "url = 'https://drive.google.com/uc?id=14AMuGDPHac7FOOr7Stw2Jh-l-IWb7n8D'\n",
    "output = 'friends.adjlist'\n",
    "gdown.download(url, output, quiet=False)"
   ]
  },
  {
   "cell_type": "code",
   "execution_count": 31,
   "metadata": {
    "id": "aEQapPYNmgnD",
    "scrolled": false
   },
   "outputs": [],
   "source": [
    "# this block of code is only for networkx adapt it for graph-tool\n",
    "SG = nx.read_adjlist('friends.adjlist')\n",
    "assert max_degree(SG) == ('Claire', 4)"
   ]
  },
  {
   "cell_type": "markdown",
   "metadata": {
    "id": "MCDbNldnmgnD"
   },
   "source": [
    "## Hands on 03"
   ]
  },
  {
   "cell_type": "markdown",
   "metadata": {
    "id": "RWup3uDm9n5I"
   },
   "source": [
    "\n",
    "Write a function `mutual_friends` that takes a graph and two nodes as arguments, and returns a list (or set) of nodes that are linked to both given nodes. For example, in the graph `SG` drawn above,\n",
    "\n",
    "    mutual_friends(SG, 'Alice', 'Claire') == ['Frank']\n",
    "\n",
    "an empty list or set should be returned in the case where two nodes have no mutual friends, e.g. George and Bob in `SG` drawn above."
   ]
  },
  {
   "cell_type": "code",
   "execution_count": 26,
   "metadata": {
    "id": "hpnX9YeKmgnD",
    "scrolled": false
   },
   "outputs": [],
   "source": [
    "import networkx as nx\n",
    "\n",
    "def mutual_friends(G, node_1, node_2):\n",
    "    neighbors_1 = set(G.neighbors(node_1))\n",
    "    neighbors_2 = set(G.neighbors(node_2))\n",
    "    mutual_friends = neighbors_1.intersection(neighbors_2)\n",
    "    return list(mutual_friends)"
   ]
  },
  {
   "cell_type": "code",
   "execution_count": 27,
   "metadata": {
    "id": "B2n0vCRYmgnE",
    "scrolled": true
   },
   "outputs": [],
   "source": [
    "# this block of code is only for networkx adapt it for graph-tool\n",
    "SG = nx.read_adjlist('friends.adjlist')\n",
    "assert mutual_friends(SG, 'Alice', 'Claire') == ['Frank']\n",
    "assert mutual_friends(SG, 'George', 'Bob') == []\n",
    "assert sorted(mutual_friends(SG, 'Claire', 'George')) == ['Dennis', 'Frank']"
   ]
  }
 ],
 "metadata": {
  "colab": {
   "collapsed_sections": [
    "QPVskC76LUtF",
    "ZT5mLS7-Lsb2",
    "4-bIhQwpMVs3",
    "S4Ga_yyYNBBo",
    "hct-5tQwNg5_",
    "--K9oj5YNrjz",
    "cER1jb6SN8NF",
    "RN4CfOSqOK_1",
    "SKKotfslOluz",
    "N92A04bZP6Uu",
    "hzp00QnjRgxU",
    "7if-CnFwSfPc",
    "TcYdyCnEmgnD",
    "MCDbNldnmgnD"
   ],
   "provenance": []
  },
  "kernelspec": {
   "display_name": "Python 3 (ipykernel)",
   "language": "python",
   "name": "python3"
  },
  "language_info": {
   "codemirror_mode": {
    "name": "ipython",
    "version": 3
   },
   "file_extension": ".py",
   "mimetype": "text/x-python",
   "name": "python",
   "nbconvert_exporter": "python",
   "pygments_lexer": "ipython3",
   "version": "3.10.9"
  }
 },
 "nbformat": 4,
 "nbformat_minor": 1
}
